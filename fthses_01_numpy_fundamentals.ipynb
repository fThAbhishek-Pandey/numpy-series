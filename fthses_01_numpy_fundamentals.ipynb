{
  "nbformat": 4,
  "nbformat_minor": 0,
  "metadata": {
    "colab": {
      "provenance": [],
      "include_colab_link": true
    },
    "kernelspec": {
      "name": "python3",
      "display_name": "Python 3"
    },
    "language_info": {
      "name": "python"
    }
  },
  "cells": [
    {
      "cell_type": "markdown",
      "metadata": {
        "id": "view-in-github",
        "colab_type": "text"
      },
      "source": [
        "<a href=\"https://colab.research.google.com/github/fThAbhishek-Pandey/numpy-series/blob/main/fthses_01_numpy_fundamentals.ipynb\" target=\"_parent\"><img src=\"https://colab.research.google.com/assets/colab-badge.svg\" alt=\"Open In Colab\"/></a>"
      ]
    },
    {
      "cell_type": "markdown",
      "source": [
        "### What is numpy?\n",
        "\n",
        "NumPy is the fundamental package for scientific computing in Python. It is a Python library that provides a multidimensional array object, various derived objects (such as masked arrays and matrices), and an assortment of routines for fast operations on arrays, including mathematical, logical, shape manipulation, sorting, selecting, I/O, discrete Fourier transforms, basic linear algebra, basic statistical operations, random simulation and much more.\n",
        "\n",
        "\n",
        "At the core of the NumPy package, is the ndarray object. This encapsulates n-dimensional arrays of homogeneous data types"
      ],
      "metadata": {
        "id": "lFF783PD7ypT"
      }
    },
    {
      "cell_type": "markdown",
      "source": [
        "### Numpy Arrays Vs Python Sequences\n",
        "\n",
        "- NumPy arrays have a fixed size at creation, unlike Python lists (which can grow dynamically). Changing the size of an ndarray will create a new array and delete the original.\n",
        "\n",
        "- The elements in a NumPy array are all required to be of the same data type, and thus will be the same size in memory.\n",
        "\n",
        "- NumPy arrays facilitate advanced mathematical and other types of operations on large numbers of data. Typically, such operations are executed more efficiently and with less code than is possible using Python’s built-in sequences.\n",
        "\n",
        "- A growing plethora of scientific and mathematical Python-based packages are using NumPy arrays; though these typically support Python-sequence input, they convert such input to NumPy arrays prior to processing, and they often output NumPy arrays."
      ],
      "metadata": {
        "id": "HPRzhmwiZkOP"
      }
    },
    {
      "cell_type": "markdown",
      "source": [
        "### Creating Numpy Arrays"
      ],
      "metadata": {
        "id": "0PyrZ724szaG"
      }
    },
    {
      "cell_type": "code",
      "source": [
        "# np.array // vector\n",
        "import numpy as np\n",
        "\n",
        "a = np.array([1,2,3])\n",
        "print(a)\n",
        "print(type(a))"
      ],
      "metadata": {
        "colab": {
          "base_uri": "https://localhost:8080/"
        },
        "id": "V4AVNXrts3sL",
        "outputId": "023dc306-1cd8-4e6f-9309-2b210c69b100"
      },
      "execution_count": 1,
      "outputs": [
        {
          "output_type": "stream",
          "name": "stdout",
          "text": [
            "[1 2 3]\n",
            "<class 'numpy.ndarray'>\n"
          ]
        }
      ]
    },
    {
      "cell_type": "code",
      "source": [
        "# 2D Or  matrics\n",
        "b = np.array([[1,2,3],[4,5,6]])\n",
        "print(b)"
      ],
      "metadata": {
        "colab": {
          "base_uri": "https://localhost:8080/"
        },
        "id": "AAfxD1kCs6R5",
        "outputId": "20d8086f-f295-44ff-a0fa-654ebd5cd219"
      },
      "execution_count": 2,
      "outputs": [
        {
          "output_type": "stream",
          "name": "stdout",
          "text": [
            "[[1 2 3]\n",
            " [4 5 6]]\n"
          ]
        }
      ]
    },
    {
      "cell_type": "code",
      "source": [
        "#3D or tensor\n",
        "c= np.array([[[1,2],[3,4]], [[5,6],[7,8]]])\n",
        "print(c)"
      ],
      "metadata": {
        "colab": {
          "base_uri": "https://localhost:8080/"
        },
        "id": "Nc-bsMo4e8qG",
        "outputId": "6b5d8060-042d-4d50-953c-68d8ebe07f8d"
      },
      "execution_count": 3,
      "outputs": [
        {
          "output_type": "stream",
          "name": "stdout",
          "text": [
            "[[[1 2]\n",
            "  [3 4]]\n",
            "\n",
            " [[5 6]\n",
            "  [7 8]]]\n"
          ]
        }
      ]
    },
    {
      "cell_type": "code",
      "source": [
        "# dtype\n",
        "np.array([1,2,3],dtype=float)"
      ],
      "metadata": {
        "colab": {
          "base_uri": "https://localhost:8080/"
        },
        "id": "FM8AwUOdFqC7",
        "outputId": "790ba506-784c-486c-f5b0-ea0bf0544428"
      },
      "execution_count": 4,
      "outputs": [
        {
          "output_type": "execute_result",
          "data": {
            "text/plain": [
              "array([1., 2., 3.])"
            ]
          },
          "metadata": {},
          "execution_count": 4
        }
      ]
    },
    {
      "cell_type": "code",
      "source": [
        "#bool\n",
        "np.array([1,2,3],dtype=complex)"
      ],
      "metadata": {
        "colab": {
          "base_uri": "https://localhost:8080/"
        },
        "id": "LcjsOnWjgEu6",
        "outputId": "c2695a96-bc60-4822-a7b2-efb21ecbab32"
      },
      "execution_count": 5,
      "outputs": [
        {
          "output_type": "execute_result",
          "data": {
            "text/plain": [
              "array([1.+0.j, 2.+0.j, 3.+0.j])"
            ]
          },
          "metadata": {},
          "execution_count": 5
        }
      ]
    },
    {
      "cell_type": "markdown",
      "source": [
        "2nd method to create array"
      ],
      "metadata": {
        "id": "4GUuDfFQhYUB"
      }
    },
    {
      "cell_type": "code",
      "source": [
        "# np.arange\n",
        "np.arange(1,11,2)"
      ],
      "metadata": {
        "colab": {
          "base_uri": "https://localhost:8080/"
        },
        "id": "ZY187Au_s8vm",
        "outputId": "5ff8d981-5c4a-4862-8250-d40bd7f0f09e"
      },
      "execution_count": 6,
      "outputs": [
        {
          "output_type": "execute_result",
          "data": {
            "text/plain": [
              "array([1, 3, 5, 7, 9])"
            ]
          },
          "metadata": {},
          "execution_count": 6
        }
      ]
    },
    {
      "cell_type": "code",
      "source": [
        "# with reshape\n",
        "np.arange(1,13).reshape(6,2)"
      ],
      "metadata": {
        "colab": {
          "base_uri": "https://localhost:8080/"
        },
        "id": "3Gc7BaJZwl7e",
        "outputId": "0adbc3d0-e31a-455e-ba59-2fc6f2d3f0ba"
      },
      "execution_count": 7,
      "outputs": [
        {
          "output_type": "execute_result",
          "data": {
            "text/plain": [
              "array([[ 1,  2],\n",
              "       [ 3,  4],\n",
              "       [ 5,  6],\n",
              "       [ 7,  8],\n",
              "       [ 9, 10],\n",
              "       [11, 12]])"
            ]
          },
          "metadata": {},
          "execution_count": 7
        }
      ]
    },
    {
      "cell_type": "markdown",
      "source": [
        "create utility array with inisialize"
      ],
      "metadata": {
        "id": "g5Xn5S0shivC"
      }
    },
    {
      "cell_type": "code",
      "source": [
        "# np.ones and np.zeros\n",
        "np.ones((3,4))"
      ],
      "metadata": {
        "colab": {
          "base_uri": "https://localhost:8080/"
        },
        "id": "R2BYpYcGs-9l",
        "outputId": "9abfaf93-b8dc-444a-9bd7-954127ef49e0"
      },
      "execution_count": 8,
      "outputs": [
        {
          "output_type": "execute_result",
          "data": {
            "text/plain": [
              "array([[1., 1., 1., 1.],\n",
              "       [1., 1., 1., 1.],\n",
              "       [1., 1., 1., 1.]])"
            ]
          },
          "metadata": {},
          "execution_count": 8
        }
      ]
    },
    {
      "cell_type": "code",
      "source": [
        "np.zeros((3,4))"
      ],
      "metadata": {
        "colab": {
          "base_uri": "https://localhost:8080/"
        },
        "id": "vOjv_Euj8HGR",
        "outputId": "ecc3718f-7a52-4ca3-eb9f-c9a2b3afe866"
      },
      "execution_count": 9,
      "outputs": [
        {
          "output_type": "execute_result",
          "data": {
            "text/plain": [
              "array([[0., 0., 0., 0.],\n",
              "       [0., 0., 0., 0.],\n",
              "       [0., 0., 0., 0.]])"
            ]
          },
          "metadata": {},
          "execution_count": 9
        }
      ]
    },
    {
      "cell_type": "code",
      "source": [
        "# np.random\n",
        "np.random.random((3,4))"
      ],
      "metadata": {
        "colab": {
          "base_uri": "https://localhost:8080/"
        },
        "id": "fYEeYi7itCRM",
        "outputId": "3c74531b-9747-42b0-d77a-65d19732bf0c"
      },
      "execution_count": 10,
      "outputs": [
        {
          "output_type": "execute_result",
          "data": {
            "text/plain": [
              "array([[0.87316573, 0.76388377, 0.03794843, 0.72559536],\n",
              "       [0.69550714, 0.76450517, 0.79908537, 0.88770223],\n",
              "       [0.85746278, 0.96229786, 0.43131215, 0.43866487]])"
            ]
          },
          "metadata": {},
          "execution_count": 10
        }
      ]
    },
    {
      "cell_type": "markdown",
      "source": [
        "linear space"
      ],
      "metadata": {
        "id": "ZrdxQAuoiQbP"
      }
    },
    {
      "cell_type": "code",
      "source": [
        "# np.linspace\n",
        "np.linspace(-10,10,10,dtype=int)"
      ],
      "metadata": {
        "colab": {
          "base_uri": "https://localhost:8080/"
        },
        "id": "vel7WrgltE3P",
        "outputId": "6ac61372-7be8-4ef3-8de4-42b0245bc8c1"
      },
      "execution_count": 11,
      "outputs": [
        {
          "output_type": "execute_result",
          "data": {
            "text/plain": [
              "array([-10,  -8,  -6,  -4,  -2,   1,   3,   5,   7,  10])"
            ]
          },
          "metadata": {},
          "execution_count": 11
        }
      ]
    },
    {
      "cell_type": "code",
      "source": [
        "# np.identity --> identity matrics\n",
        "np.identity(3)"
      ],
      "metadata": {
        "colab": {
          "base_uri": "https://localhost:8080/"
        },
        "id": "ewyMuXh1tJzi",
        "outputId": "2307dbc6-41b3-42f3-9542-5a37e63e1907"
      },
      "execution_count": 12,
      "outputs": [
        {
          "output_type": "execute_result",
          "data": {
            "text/plain": [
              "array([[1., 0., 0.],\n",
              "       [0., 1., 0.],\n",
              "       [0., 0., 1.]])"
            ]
          },
          "metadata": {},
          "execution_count": 12
        }
      ]
    },
    {
      "cell_type": "markdown",
      "source": [
        "### Array Attributes\n",
        "\n",
        "*   .arange = create array to desire range\n",
        "\n",
        "*   .ndim   = dimention of array\n",
        "\n",
        "*   .shape  = row , colums ,\n",
        "*   .itemsize = size of array item\n",
        "*   .dtype =  datatype of element"
      ],
      "metadata": {
        "id": "LphXpjZJtNyI"
      }
    },
    {
      "cell_type": "code",
      "source": [
        "a1 = np.arange(10,dtype=np.int32) #1D\n",
        "a2 = np.arange(12,dtype=float).reshape(3,4) #2D\n",
        "a3 = np.arange(8).reshape(2,2,2) #tensor\n",
        "\n",
        "a1"
      ],
      "metadata": {
        "colab": {
          "base_uri": "https://localhost:8080/"
        },
        "id": "UXnB5dIEFOgD",
        "outputId": "d70fbcfd-d866-48c9-d887-9290533629e0"
      },
      "execution_count": 13,
      "outputs": [
        {
          "output_type": "execute_result",
          "data": {
            "text/plain": [
              "array([0, 1, 2, 3, 4, 5, 6, 7, 8, 9], dtype=int32)"
            ]
          },
          "metadata": {},
          "execution_count": 13
        }
      ]
    },
    {
      "cell_type": "code",
      "source": [
        "# ndim\n",
        "a1.ndim\n",
        "#a2.ndim\n",
        "#a3.ndim"
      ],
      "metadata": {
        "colab": {
          "base_uri": "https://localhost:8080/"
        },
        "id": "qib4oDFptRKN",
        "outputId": "23fb89ab-c8d1-4a9a-f34a-314cf9287bf5"
      },
      "execution_count": 14,
      "outputs": [
        {
          "output_type": "execute_result",
          "data": {
            "text/plain": [
              "1"
            ]
          },
          "metadata": {},
          "execution_count": 14
        }
      ]
    },
    {
      "cell_type": "code",
      "source": [
        "# .shape\n",
        "print(a1.shape)\n",
        "a1"
      ],
      "metadata": {
        "colab": {
          "base_uri": "https://localhost:8080/"
        },
        "id": "InUvH8KGtSRv",
        "outputId": "be3f6d3b-9bf8-4572-a558-ba4219b35330"
      },
      "execution_count": 15,
      "outputs": [
        {
          "output_type": "stream",
          "name": "stdout",
          "text": [
            "(10,)\n"
          ]
        },
        {
          "output_type": "execute_result",
          "data": {
            "text/plain": [
              "array([0, 1, 2, 3, 4, 5, 6, 7, 8, 9], dtype=int32)"
            ]
          },
          "metadata": {},
          "execution_count": 15
        }
      ]
    },
    {
      "cell_type": "code",
      "source": [
        "# size\n",
        "print(a1.size)\n",
        "a1"
      ],
      "metadata": {
        "colab": {
          "base_uri": "https://localhost:8080/"
        },
        "id": "9Dko5610tT-Z",
        "outputId": "2d18faa3-826f-48c8-96ed-55e721325aaf"
      },
      "execution_count": 16,
      "outputs": [
        {
          "output_type": "stream",
          "name": "stdout",
          "text": [
            "10\n"
          ]
        },
        {
          "output_type": "execute_result",
          "data": {
            "text/plain": [
              "array([0, 1, 2, 3, 4, 5, 6, 7, 8, 9], dtype=int32)"
            ]
          },
          "metadata": {},
          "execution_count": 16
        }
      ]
    },
    {
      "cell_type": "code",
      "source": [
        "# itemsize\n",
        "a1.itemsize"
      ],
      "metadata": {
        "colab": {
          "base_uri": "https://localhost:8080/"
        },
        "id": "wDFdHtH3tV1Z",
        "outputId": "e14b3d80-1cc5-49ea-cf8d-5a313af2955c"
      },
      "execution_count": 17,
      "outputs": [
        {
          "output_type": "execute_result",
          "data": {
            "text/plain": [
              "4"
            ]
          },
          "metadata": {},
          "execution_count": 17
        }
      ]
    },
    {
      "cell_type": "code",
      "source": [
        "# dtype\n",
        "print(a1.dtype)\n",
        "print(a2.dtype)\n",
        "print(a3.dtype)\n",
        "\n"
      ],
      "metadata": {
        "colab": {
          "base_uri": "https://localhost:8080/"
        },
        "id": "Pik7FgEVtXDj",
        "outputId": "25173092-2543-417e-e82f-db0515089075"
      },
      "execution_count": 18,
      "outputs": [
        {
          "output_type": "stream",
          "name": "stdout",
          "text": [
            "int32\n",
            "float64\n",
            "int64\n"
          ]
        }
      ]
    },
    {
      "cell_type": "markdown",
      "source": [
        "### Changing Datatype\n",
        "\n",
        "\n",
        "*   .astype( np.int32) = tranform data type\n",
        "\n"
      ],
      "metadata": {
        "id": "7Ase0eFWtcFl"
      }
    },
    {
      "cell_type": "code",
      "source": [
        "# astype\n",
        "a3.astype(np.int32)"
      ],
      "metadata": {
        "colab": {
          "base_uri": "https://localhost:8080/"
        },
        "id": "DZPEFqhotbFS",
        "outputId": "d6bb4648-5774-4d23-a575-e6d20930777a"
      },
      "execution_count": 19,
      "outputs": [
        {
          "output_type": "execute_result",
          "data": {
            "text/plain": [
              "array([[[0, 1],\n",
              "        [2, 3]],\n",
              "\n",
              "       [[4, 5],\n",
              "        [6, 7]]], dtype=int32)"
            ]
          },
          "metadata": {},
          "execution_count": 19
        }
      ]
    },
    {
      "cell_type": "markdown",
      "source": [
        "# Array Operations\n",
        "   \n",
        "\n",
        "###Scaler\n",
        "  let k is scaler quantity and df is a numpy array than\n",
        "  k ⨁ df is imply that each item of df oprate with ⨁.\n",
        "*   arithmetic opratin  +  ,- , *  , ^ %\n",
        "*   relational  > < >= <= == !=\n",
        "### vector opration\n",
        "\n",
        "\n",
        "1.   arithmatic  \n",
        "     *    power of matrics **\n",
        "     *    add two matrics +\n",
        "2.   List item\n",
        "\n",
        "\n",
        "\n"
      ],
      "metadata": {
        "id": "k-y-aaV9u52l"
      }
    },
    {
      "cell_type": "code",
      "source": [
        "a1 = np.arange(12).reshape(3,4)\n",
        "a2 = np.arange(12,24).reshape(3,4)\n",
        "\n",
        "a1"
      ],
      "metadata": {
        "colab": {
          "base_uri": "https://localhost:8080/"
        },
        "id": "mIk8tk53HnOW",
        "outputId": "c36099b2-645c-4b0e-ece8-1a9920da5385"
      },
      "execution_count": 20,
      "outputs": [
        {
          "output_type": "execute_result",
          "data": {
            "text/plain": [
              "array([[ 0,  1,  2,  3],\n",
              "       [ 4,  5,  6,  7],\n",
              "       [ 8,  9, 10, 11]])"
            ]
          },
          "metadata": {},
          "execution_count": 20
        }
      ]
    },
    {
      "cell_type": "code",
      "source": [
        "# scalar operations\n",
        "\n",
        "# arithmetic\n",
        "a1 ** 2"
      ],
      "metadata": {
        "colab": {
          "base_uri": "https://localhost:8080/"
        },
        "id": "vtQrWQKD87Fn",
        "outputId": "4d0e0aa6-ae61-48d3-e50b-eb5a95048dd6"
      },
      "execution_count": 21,
      "outputs": [
        {
          "output_type": "execute_result",
          "data": {
            "text/plain": [
              "array([[  0,   1,   4,   9],\n",
              "       [ 16,  25,  36,  49],\n",
              "       [ 64,  81, 100, 121]])"
            ]
          },
          "metadata": {},
          "execution_count": 21
        }
      ]
    },
    {
      "cell_type": "code",
      "source": [
        "# relational\n",
        "a2 == 15"
      ],
      "metadata": {
        "colab": {
          "base_uri": "https://localhost:8080/"
        },
        "id": "mCgPxTzQrtte",
        "outputId": "d192d712-ab7b-4343-b8e8-b0b8b5a65b82"
      },
      "execution_count": 22,
      "outputs": [
        {
          "output_type": "execute_result",
          "data": {
            "text/plain": [
              "array([[False, False, False,  True],\n",
              "       [False, False, False, False],\n",
              "       [False, False, False, False]])"
            ]
          },
          "metadata": {},
          "execution_count": 22
        }
      ]
    },
    {
      "cell_type": "code",
      "source": [
        "# vector operations\n",
        "# arithmetic\n",
        "a1 ** a2"
      ],
      "metadata": {
        "colab": {
          "base_uri": "https://localhost:8080/"
        },
        "id": "E2S3xDRxrt5D",
        "outputId": "5920b896-237e-44d9-cb1d-6b7e7cf35f9c"
      },
      "execution_count": 23,
      "outputs": [
        {
          "output_type": "execute_result",
          "data": {
            "text/plain": [
              "array([[                   0,                    1,                16384,\n",
              "                    14348907],\n",
              "       [          4294967296,         762939453125,      101559956668416,\n",
              "           11398895185373143],\n",
              "       [ 1152921504606846976, -1261475310744950487,  1864712049423024128,\n",
              "         6839173302027254275]])"
            ]
          },
          "metadata": {},
          "execution_count": 23
        }
      ]
    },
    {
      "cell_type": "markdown",
      "source": [
        "### Array Functions\n",
        "\n",
        "* mathematical\n",
        "1.   min\n",
        " axis =1 => rows\n",
        "\n",
        " axis = 0 => columns\n",
        "2.   max\n",
        "3.   sum\n",
        "4.   prod\n",
        "* stactical\n",
        "5.   mean\n",
        "6.   median\n",
        "7.  std\n",
        "9.  var\n",
        "* tringnomatical\n",
        "10. sin / cos / tan\n",
        "* algebaric function\n",
        "11.  Dot product\n",
        "\n",
        " let Mnm and Mkh is matrics . it is productable iff n=k and m=h\n",
        "12. Log and exponent (exp) function\n",
        " * mislation function\n",
        " 13. round\n",
        " 14. floor\n",
        " 15. ceil\n"
      ],
      "metadata": {
        "id": "AQZgntYTu8ot"
      }
    },
    {
      "cell_type": "code",
      "source": [
        "a1 = np.random.random((3,3))\n",
        "a1 = np.round(a1*100)\n",
        "a1"
      ],
      "metadata": {
        "colab": {
          "base_uri": "https://localhost:8080/"
        },
        "id": "CHUj0a_dIP4F",
        "outputId": "e3fc6555-7fba-4483-b77f-131cc6b6f972"
      },
      "execution_count": 24,
      "outputs": [
        {
          "output_type": "execute_result",
          "data": {
            "text/plain": [
              "array([[68., 14.,  0.],\n",
              "       [86., 75., 57.],\n",
              "       [22., 30., 18.]])"
            ]
          },
          "metadata": {},
          "execution_count": 24
        }
      ]
    },
    {
      "cell_type": "code",
      "source": [
        "# max/min/sum/prod\n",
        "# 0 -> col and 1 -> row\n",
        "np.min(a1,axis=0)"
      ],
      "metadata": {
        "colab": {
          "base_uri": "https://localhost:8080/"
        },
        "id": "J1EWNET29Urx",
        "outputId": "afb8e66f-b634-4d12-855e-ad3daa1611eb"
      },
      "execution_count": 25,
      "outputs": [
        {
          "output_type": "execute_result",
          "data": {
            "text/plain": [
              "array([22., 14.,  0.])"
            ]
          },
          "metadata": {},
          "execution_count": 25
        }
      ]
    },
    {
      "cell_type": "code",
      "source": [
        "# mean/median/std/var\n",
        "np.var(a1,axis=1)"
      ],
      "metadata": {
        "colab": {
          "base_uri": "https://localhost:8080/"
        },
        "id": "JAlMLFkds9KC",
        "outputId": "b6f7989d-5ffe-4621-be2e-6a9941412f7b"
      },
      "execution_count": 26,
      "outputs": [
        {
          "output_type": "execute_result",
          "data": {
            "text/plain": [
              "array([859.55555556, 142.88888889,  24.88888889])"
            ]
          },
          "metadata": {},
          "execution_count": 26
        }
      ]
    },
    {
      "cell_type": "code",
      "source": [
        "# trigonomoetric functions\n",
        "np.sin(a1)"
      ],
      "metadata": {
        "colab": {
          "base_uri": "https://localhost:8080/"
        },
        "id": "vwLoQQVqs-m-",
        "outputId": "d42de54c-d063-4688-eda9-6c16dffb9c9e"
      },
      "execution_count": 27,
      "outputs": [
        {
          "output_type": "execute_result",
          "data": {
            "text/plain": [
              "array([[-0.89792768,  0.99060736,  0.        ],\n",
              "       [-0.92345845, -0.38778164,  0.43616476],\n",
              "       [-0.00885131, -0.98803162, -0.75098725]])"
            ]
          },
          "metadata": {},
          "execution_count": 27
        }
      ]
    },
    {
      "cell_type": "code",
      "source": [
        "# dot product\n",
        "a2 = np.arange(12).reshape(3,4)\n",
        "a3 = np.arange(12,24).reshape(4,3)\n",
        "\n",
        "np.dot(a2,a3)"
      ],
      "metadata": {
        "colab": {
          "base_uri": "https://localhost:8080/"
        },
        "id": "RoEtYuiytFm1",
        "outputId": "e6aacc16-b11c-45e4-f695-798a06c593ce"
      },
      "execution_count": 28,
      "outputs": [
        {
          "output_type": "execute_result",
          "data": {
            "text/plain": [
              "array([[114, 120, 126],\n",
              "       [378, 400, 422],\n",
              "       [642, 680, 718]])"
            ]
          },
          "metadata": {},
          "execution_count": 28
        }
      ]
    },
    {
      "cell_type": "code",
      "source": [
        "# log and exponents\n",
        "np.exp(a1)"
      ],
      "metadata": {
        "colab": {
          "base_uri": "https://localhost:8080/"
        },
        "id": "qd7GmrgEtH6i",
        "outputId": "7b3d9132-c994-4a05-8164-39361fb30174"
      },
      "execution_count": 29,
      "outputs": [
        {
          "output_type": "execute_result",
          "data": {
            "text/plain": [
              "array([[3.40427605e+29, 1.20260428e+06, 1.00000000e+00],\n",
              "       [2.23524660e+37, 3.73324200e+32, 5.68572000e+24],\n",
              "       [3.58491285e+09, 1.06864746e+13, 6.56599691e+07]])"
            ]
          },
          "metadata": {},
          "execution_count": 29
        }
      ]
    },
    {
      "cell_type": "code",
      "source": [
        "# round/floor/ceil\n",
        "\n",
        "np.ceil(np.random.random((2,3))*100)"
      ],
      "metadata": {
        "colab": {
          "base_uri": "https://localhost:8080/"
        },
        "id": "EOXnVCZhtKk1",
        "outputId": "57ce68b4-d48d-4afb-ad7c-a09c15f1d189"
      },
      "execution_count": 30,
      "outputs": [
        {
          "output_type": "execute_result",
          "data": {
            "text/plain": [
              "array([[  9.,  65., 100.],\n",
              "       [ 16.,   4.,  63.]])"
            ]
          },
          "metadata": {},
          "execution_count": 30
        }
      ]
    },
    {
      "cell_type": "markdown",
      "source": [
        "### Indexing and Slicing"
      ],
      "metadata": {
        "id": "2pYZJMrAuvuv"
      }
    },
    {
      "cell_type": "code",
      "source": [
        "a1 = np.arange(10)\n",
        "a2 = np.arange(12).reshape(3,4)\n",
        "a3 = np.arange(8).reshape(2,2,2)\n",
        "\n",
        "a2"
      ],
      "metadata": {
        "colab": {
          "base_uri": "https://localhost:8080/"
        },
        "id": "v1LynzX9u2R-",
        "outputId": "2c0e4951-4f7f-49a5-d51b-e6422b341155"
      },
      "execution_count": 31,
      "outputs": [
        {
          "output_type": "execute_result",
          "data": {
            "text/plain": [
              "array([[ 0,  1,  2,  3],\n",
              "       [ 4,  5,  6,  7],\n",
              "       [ 8,  9, 10, 11]])"
            ]
          },
          "metadata": {},
          "execution_count": 31
        }
      ]
    },
    {
      "cell_type": "code",
      "source": [
        "a1[8]"
      ],
      "metadata": {
        "colab": {
          "base_uri": "https://localhost:8080/"
        },
        "id": "qyFbwR9Ku2YE",
        "outputId": "3c52227d-0414-4c17-d83e-185830504922"
      },
      "execution_count": 32,
      "outputs": [
        {
          "output_type": "execute_result",
          "data": {
            "text/plain": [
              "8"
            ]
          },
          "metadata": {},
          "execution_count": 32
        }
      ]
    },
    {
      "cell_type": "markdown",
      "source": [
        "a2[1][2]"
      ],
      "metadata": {
        "id": "Q2IbBdEXu2a5"
      }
    },
    {
      "cell_type": "code",
      "source": [
        "a2[1,0]"
      ],
      "metadata": {
        "colab": {
          "base_uri": "https://localhost:8080/"
        },
        "id": "GIR5YhVzu2dc",
        "outputId": "0bf500a4-c32d-4d34-896b-8451910de0e7"
      },
      "execution_count": 33,
      "outputs": [
        {
          "output_type": "execute_result",
          "data": {
            "text/plain": [
              "4"
            ]
          },
          "metadata": {},
          "execution_count": 33
        }
      ]
    },
    {
      "cell_type": "code",
      "source": [
        "a3"
      ],
      "metadata": {
        "colab": {
          "base_uri": "https://localhost:8080/"
        },
        "id": "IbM-KNY3HP9-",
        "outputId": "21c72a07-180c-49d9-92ff-dffcbfb9aa7f"
      },
      "execution_count": 34,
      "outputs": [
        {
          "output_type": "execute_result",
          "data": {
            "text/plain": [
              "array([[[0, 1],\n",
              "        [2, 3]],\n",
              "\n",
              "       [[4, 5],\n",
              "        [6, 7]]])"
            ]
          },
          "metadata": {},
          "execution_count": 34
        }
      ]
    },
    {
      "cell_type": "code",
      "source": [
        "a3[1,1,0]"
      ],
      "metadata": {
        "colab": {
          "base_uri": "https://localhost:8080/"
        },
        "id": "xG7HU0RgHQD-",
        "outputId": "b2ef93aa-3b41-40e7-a734-c0081a201f25"
      },
      "execution_count": 35,
      "outputs": [
        {
          "output_type": "execute_result",
          "data": {
            "text/plain": [
              "6"
            ]
          },
          "metadata": {},
          "execution_count": 35
        }
      ]
    },
    {
      "cell_type": "code",
      "source": [
        "a3[1,1,0]"
      ],
      "metadata": {
        "colab": {
          "base_uri": "https://localhost:8080/"
        },
        "id": "3EhcikSWHQKO",
        "outputId": "889c26b8-a810-4202-c156-dd77ada47aaf"
      },
      "execution_count": 36,
      "outputs": [
        {
          "output_type": "execute_result",
          "data": {
            "text/plain": [
              "6"
            ]
          },
          "metadata": {},
          "execution_count": 36
        }
      ]
    },
    {
      "cell_type": "markdown",
      "source": [
        "Sclicing  = find range of dataset"
      ],
      "metadata": {
        "id": "qFhKD-YGBT_h"
      }
    },
    {
      "cell_type": "code",
      "source": [
        "a1"
      ],
      "metadata": {
        "colab": {
          "base_uri": "https://localhost:8080/"
        },
        "id": "_cgU2A52HQO0",
        "outputId": "300bec83-4357-4f3b-e739-cfdb33817225"
      },
      "execution_count": 37,
      "outputs": [
        {
          "output_type": "execute_result",
          "data": {
            "text/plain": [
              "array([0, 1, 2, 3, 4, 5, 6, 7, 8, 9])"
            ]
          },
          "metadata": {},
          "execution_count": 37
        }
      ]
    },
    {
      "cell_type": "code",
      "source": [
        "a1[2:5:2]"
      ],
      "metadata": {
        "colab": {
          "base_uri": "https://localhost:8080/"
        },
        "id": "HnFM0Wa5IMw2",
        "outputId": "b9fbfd92-3a3c-4f2b-9328-89f344ea2b42"
      },
      "execution_count": 38,
      "outputs": [
        {
          "output_type": "execute_result",
          "data": {
            "text/plain": [
              "array([2, 4])"
            ]
          },
          "metadata": {},
          "execution_count": 38
        }
      ]
    },
    {
      "cell_type": "markdown",
      "source": [
        "Matrics"
      ],
      "metadata": {
        "id": "HYcU2-fZB1bP"
      }
    },
    {
      "cell_type": "code",
      "source": [
        "a2"
      ],
      "metadata": {
        "colab": {
          "base_uri": "https://localhost:8080/"
        },
        "id": "SDWOK56EIM3n",
        "outputId": "de8422c2-9420-4599-9368-c21c07181112"
      },
      "execution_count": 39,
      "outputs": [
        {
          "output_type": "execute_result",
          "data": {
            "text/plain": [
              "array([[ 0,  1,  2,  3],\n",
              "       [ 4,  5,  6,  7],\n",
              "       [ 8,  9, 10, 11]])"
            ]
          },
          "metadata": {},
          "execution_count": 39
        }
      ]
    },
    {
      "cell_type": "code",
      "source": [
        "a2[0:2,:]"
      ],
      "metadata": {
        "colab": {
          "base_uri": "https://localhost:8080/"
        },
        "id": "q55x6VoiKmpX",
        "outputId": "03ab99ce-e381-4ccd-fe06-40c39dccbdef"
      },
      "execution_count": 40,
      "outputs": [
        {
          "output_type": "execute_result",
          "data": {
            "text/plain": [
              "array([[0, 1, 2, 3],\n",
              "       [4, 5, 6, 7]])"
            ]
          },
          "metadata": {},
          "execution_count": 40
        }
      ]
    },
    {
      "cell_type": "code",
      "source": [
        "a2[::2,1::2]"
      ],
      "metadata": {
        "colab": {
          "base_uri": "https://localhost:8080/"
        },
        "id": "t2hA9ZJNJOBW",
        "outputId": "2619479c-a3de-4fb3-ad8a-edd9a73cbe65"
      },
      "execution_count": 41,
      "outputs": [
        {
          "output_type": "execute_result",
          "data": {
            "text/plain": [
              "array([[ 1,  3],\n",
              "       [ 9, 11]])"
            ]
          },
          "metadata": {},
          "execution_count": 41
        }
      ]
    },
    {
      "cell_type": "code",
      "source": [
        "a2[1,::3]"
      ],
      "metadata": {
        "colab": {
          "base_uri": "https://localhost:8080/"
        },
        "id": "hubSAa0eKSCt",
        "outputId": "dcf0036c-f712-40e4-8eab-73d5fffaf7eb"
      },
      "execution_count": 42,
      "outputs": [
        {
          "output_type": "execute_result",
          "data": {
            "text/plain": [
              "array([4, 7])"
            ]
          },
          "metadata": {},
          "execution_count": 42
        }
      ]
    },
    {
      "cell_type": "code",
      "source": [
        "a2[0,:]"
      ],
      "metadata": {
        "colab": {
          "base_uri": "https://localhost:8080/"
        },
        "id": "mi2B5NN9IM-B",
        "outputId": "d7fdf090-7da3-4e60-acaf-abb77f6d6bfc"
      },
      "execution_count": 43,
      "outputs": [
        {
          "output_type": "execute_result",
          "data": {
            "text/plain": [
              "array([0, 1, 2, 3])"
            ]
          },
          "metadata": {},
          "execution_count": 43
        }
      ]
    },
    {
      "cell_type": "code",
      "source": [
        "a2[:,2]"
      ],
      "metadata": {
        "colab": {
          "base_uri": "https://localhost:8080/"
        },
        "id": "u7dQcPKpINDS",
        "outputId": "fa4729b6-6c2e-4133-f5c1-13549ff9a4a0"
      },
      "execution_count": 44,
      "outputs": [
        {
          "output_type": "execute_result",
          "data": {
            "text/plain": [
              "array([ 2,  6, 10])"
            ]
          },
          "metadata": {},
          "execution_count": 44
        }
      ]
    },
    {
      "cell_type": "code",
      "source": [
        "a2[1:,1:3]"
      ],
      "metadata": {
        "colab": {
          "base_uri": "https://localhost:8080/"
        },
        "id": "GYjyXNKnINTA",
        "outputId": "4d3910c1-9e07-44e4-f020-cb45261dc0f9"
      },
      "execution_count": 45,
      "outputs": [
        {
          "output_type": "execute_result",
          "data": {
            "text/plain": [
              "array([[ 5,  6],\n",
              "       [ 9, 10]])"
            ]
          },
          "metadata": {},
          "execution_count": 45
        }
      ]
    },
    {
      "cell_type": "code",
      "source": [
        "a3 = np.arange(27).reshape(3,3,3)\n",
        "a3"
      ],
      "metadata": {
        "colab": {
          "base_uri": "https://localhost:8080/"
        },
        "id": "Z-24y62tK7KO",
        "outputId": "d7b314bf-4c2a-46e3-d565-7789cbb0a06c"
      },
      "execution_count": 46,
      "outputs": [
        {
          "output_type": "execute_result",
          "data": {
            "text/plain": [
              "array([[[ 0,  1,  2],\n",
              "        [ 3,  4,  5],\n",
              "        [ 6,  7,  8]],\n",
              "\n",
              "       [[ 9, 10, 11],\n",
              "        [12, 13, 14],\n",
              "        [15, 16, 17]],\n",
              "\n",
              "       [[18, 19, 20],\n",
              "        [21, 22, 23],\n",
              "        [24, 25, 26]]])"
            ]
          },
          "metadata": {},
          "execution_count": 46
        }
      ]
    },
    {
      "cell_type": "code",
      "source": [
        "a3[::2,0,::2]"
      ],
      "metadata": {
        "colab": {
          "base_uri": "https://localhost:8080/"
        },
        "id": "DB1bM8NCMTub",
        "outputId": "46076f39-bb6b-42c2-d32f-5377f68ae8f8"
      },
      "execution_count": 47,
      "outputs": [
        {
          "output_type": "execute_result",
          "data": {
            "text/plain": [
              "array([[ 0,  2],\n",
              "       [18, 20]])"
            ]
          },
          "metadata": {},
          "execution_count": 47
        }
      ]
    },
    {
      "cell_type": "code",
      "source": [
        "a3[2,1:,1:]"
      ],
      "metadata": {
        "colab": {
          "base_uri": "https://localhost:8080/"
        },
        "id": "gPOgRWfNLxPF",
        "outputId": "22ea5202-dd1e-445b-b62e-d5db57832f8c"
      },
      "execution_count": 48,
      "outputs": [
        {
          "output_type": "execute_result",
          "data": {
            "text/plain": [
              "array([[22, 23],\n",
              "       [25, 26]])"
            ]
          },
          "metadata": {},
          "execution_count": 48
        }
      ]
    },
    {
      "cell_type": "code",
      "source": [
        "a3[0,1,:]"
      ],
      "metadata": {
        "colab": {
          "base_uri": "https://localhost:8080/"
        },
        "id": "S3OJJAMXK7RV",
        "outputId": "5ebea49f-f8f7-431d-f24a-e6de132f517e"
      },
      "execution_count": 49,
      "outputs": [
        {
          "output_type": "execute_result",
          "data": {
            "text/plain": [
              "array([3, 4, 5])"
            ]
          },
          "metadata": {},
          "execution_count": 49
        }
      ]
    },
    {
      "cell_type": "markdown",
      "source": [
        "### Iterating"
      ],
      "metadata": {
        "id": "dUv9qM1yuIKJ"
      }
    },
    {
      "cell_type": "code",
      "source": [
        "a1\n",
        "\n",
        "for i in a1:\n",
        "  print(i)"
      ],
      "metadata": {
        "colab": {
          "base_uri": "https://localhost:8080/"
        },
        "id": "lNgaCad6uKhm",
        "outputId": "34690221-077a-4c31-ac36-a80796725e98"
      },
      "execution_count": 50,
      "outputs": [
        {
          "output_type": "stream",
          "name": "stdout",
          "text": [
            "0\n",
            "1\n",
            "2\n",
            "3\n",
            "4\n",
            "5\n",
            "6\n",
            "7\n",
            "8\n",
            "9\n"
          ]
        }
      ]
    },
    {
      "cell_type": "code",
      "source": [
        "a2"
      ],
      "metadata": {
        "colab": {
          "base_uri": "https://localhost:8080/"
        },
        "id": "jNIsE0YFM6ZN",
        "outputId": "3097e38c-0990-48ae-d354-7ba78ddbf8bc"
      },
      "execution_count": 51,
      "outputs": [
        {
          "output_type": "execute_result",
          "data": {
            "text/plain": [
              "array([[ 0,  1,  2,  3],\n",
              "       [ 4,  5,  6,  7],\n",
              "       [ 8,  9, 10, 11]])"
            ]
          },
          "metadata": {},
          "execution_count": 51
        }
      ]
    },
    {
      "cell_type": "code",
      "source": [
        "for i in a2:\n",
        "  print(i)"
      ],
      "metadata": {
        "colab": {
          "base_uri": "https://localhost:8080/"
        },
        "id": "B2Hk-zAONHTY",
        "outputId": "3c0587e3-301c-4b97-d5b0-008a0ee05277"
      },
      "execution_count": 52,
      "outputs": [
        {
          "output_type": "stream",
          "name": "stdout",
          "text": [
            "[0 1 2 3]\n",
            "[4 5 6 7]\n",
            "[ 8  9 10 11]\n"
          ]
        }
      ]
    },
    {
      "cell_type": "code",
      "source": [
        "a3"
      ],
      "metadata": {
        "colab": {
          "base_uri": "https://localhost:8080/"
        },
        "id": "8hfuC98qM-hC",
        "outputId": "20ae4fd2-05b2-4fe7-afca-1211875718ba"
      },
      "execution_count": 53,
      "outputs": [
        {
          "output_type": "execute_result",
          "data": {
            "text/plain": [
              "array([[[ 0,  1,  2],\n",
              "        [ 3,  4,  5],\n",
              "        [ 6,  7,  8]],\n",
              "\n",
              "       [[ 9, 10, 11],\n",
              "        [12, 13, 14],\n",
              "        [15, 16, 17]],\n",
              "\n",
              "       [[18, 19, 20],\n",
              "        [21, 22, 23],\n",
              "        [24, 25, 26]]])"
            ]
          },
          "metadata": {},
          "execution_count": 53
        }
      ]
    },
    {
      "cell_type": "code",
      "source": [
        "for i in a3:\n",
        "  print(i)"
      ],
      "metadata": {
        "colab": {
          "base_uri": "https://localhost:8080/"
        },
        "id": "DsYEnw2ONOIy",
        "outputId": "1681ab79-2c95-4b28-d1e8-e8adf6f7f18d"
      },
      "execution_count": 54,
      "outputs": [
        {
          "output_type": "stream",
          "name": "stdout",
          "text": [
            "[[0 1 2]\n",
            " [3 4 5]\n",
            " [6 7 8]]\n",
            "[[ 9 10 11]\n",
            " [12 13 14]\n",
            " [15 16 17]]\n",
            "[[18 19 20]\n",
            " [21 22 23]\n",
            " [24 25 26]]\n"
          ]
        }
      ]
    },
    {
      "cell_type": "code",
      "source": [
        "for i in np.nditer(a3):\n",
        "  print(i)"
      ],
      "metadata": {
        "colab": {
          "base_uri": "https://localhost:8080/"
        },
        "id": "IuRJ1QiRNZRM",
        "outputId": "82561ab7-5802-4955-e623-ee32b6c26d43"
      },
      "execution_count": 55,
      "outputs": [
        {
          "output_type": "stream",
          "name": "stdout",
          "text": [
            "0\n",
            "1\n",
            "2\n",
            "3\n",
            "4\n",
            "5\n",
            "6\n",
            "7\n",
            "8\n",
            "9\n",
            "10\n",
            "11\n",
            "12\n",
            "13\n",
            "14\n",
            "15\n",
            "16\n",
            "17\n",
            "18\n",
            "19\n",
            "20\n",
            "21\n",
            "22\n",
            "23\n",
            "24\n",
            "25\n",
            "26\n"
          ]
        }
      ]
    },
    {
      "cell_type": "markdown",
      "source": [
        "### Reshaping"
      ],
      "metadata": {
        "id": "ZSS6AF_luNc-"
      }
    },
    {
      "cell_type": "code",
      "source": [
        "# reshape"
      ],
      "metadata": {
        "id": "NeXLsnBb9ko7"
      },
      "execution_count": 56,
      "outputs": []
    },
    {
      "cell_type": "code",
      "source": [
        "# Transpose\n",
        "np.transpose(a2)\n",
        "a2.T"
      ],
      "metadata": {
        "colab": {
          "base_uri": "https://localhost:8080/"
        },
        "id": "DBIaUE8duQDz",
        "outputId": "a9cbffc2-797a-431f-8e48-6b940b3c0444"
      },
      "execution_count": 57,
      "outputs": [
        {
          "output_type": "execute_result",
          "data": {
            "text/plain": [
              "array([[ 0,  4,  8],\n",
              "       [ 1,  5,  9],\n",
              "       [ 2,  6, 10],\n",
              "       [ 3,  7, 11]])"
            ]
          },
          "metadata": {},
          "execution_count": 57
        }
      ]
    },
    {
      "cell_type": "code",
      "source": [
        "# ravel\n",
        "a3.ravel()"
      ],
      "metadata": {
        "colab": {
          "base_uri": "https://localhost:8080/"
        },
        "id": "IULUNn5OuQMT",
        "outputId": "a8248603-fb25-4eaa-b4f0-d309fd394257"
      },
      "execution_count": 58,
      "outputs": [
        {
          "output_type": "execute_result",
          "data": {
            "text/plain": [
              "array([ 0,  1,  2,  3,  4,  5,  6,  7,  8,  9, 10, 11, 12, 13, 14, 15, 16,\n",
              "       17, 18, 19, 20, 21, 22, 23, 24, 25, 26])"
            ]
          },
          "metadata": {},
          "execution_count": 58
        }
      ]
    },
    {
      "cell_type": "markdown",
      "source": [
        "### Stacking"
      ],
      "metadata": {
        "id": "ouKcJQ5EuUQC"
      }
    },
    {
      "cell_type": "code",
      "source": [
        "# horizontal stacking\n",
        "a4 = np.arange(12).reshape(3,4)\n",
        "a5 = np.arange(12,24).reshape(3,4)\n",
        "a5"
      ],
      "metadata": {
        "colab": {
          "base_uri": "https://localhost:8080/"
        },
        "id": "HHSY1njTuXLi",
        "outputId": "8e011c7a-cfcf-477d-b806-1c4ff1c61cc7"
      },
      "execution_count": 59,
      "outputs": [
        {
          "output_type": "execute_result",
          "data": {
            "text/plain": [
              "array([[12, 13, 14, 15],\n",
              "       [16, 17, 18, 19],\n",
              "       [20, 21, 22, 23]])"
            ]
          },
          "metadata": {},
          "execution_count": 59
        }
      ]
    },
    {
      "cell_type": "code",
      "source": [
        "np.hstack((a4,a5))"
      ],
      "metadata": {
        "colab": {
          "base_uri": "https://localhost:8080/"
        },
        "id": "ne9uXt3yPKez",
        "outputId": "43b5f4e0-fe1a-48b1-d540-2eb7e9890afd"
      },
      "execution_count": 60,
      "outputs": [
        {
          "output_type": "execute_result",
          "data": {
            "text/plain": [
              "array([[ 0,  1,  2,  3, 12, 13, 14, 15],\n",
              "       [ 4,  5,  6,  7, 16, 17, 18, 19],\n",
              "       [ 8,  9, 10, 11, 20, 21, 22, 23]])"
            ]
          },
          "metadata": {},
          "execution_count": 60
        }
      ]
    },
    {
      "cell_type": "code",
      "source": [
        "# Vertical stacking\n",
        "np.vstack((a4,a5))"
      ],
      "metadata": {
        "colab": {
          "base_uri": "https://localhost:8080/"
        },
        "id": "F6bFFNKuuZW5",
        "outputId": "ead60c3a-50f5-40aa-91b6-073dd4b9be67"
      },
      "execution_count": 61,
      "outputs": [
        {
          "output_type": "execute_result",
          "data": {
            "text/plain": [
              "array([[ 0,  1,  2,  3],\n",
              "       [ 4,  5,  6,  7],\n",
              "       [ 8,  9, 10, 11],\n",
              "       [12, 13, 14, 15],\n",
              "       [16, 17, 18, 19],\n",
              "       [20, 21, 22, 23]])"
            ]
          },
          "metadata": {},
          "execution_count": 61
        }
      ]
    },
    {
      "cell_type": "markdown",
      "source": [
        "### Splitting"
      ],
      "metadata": {
        "id": "kaY006uXucF5"
      }
    },
    {
      "cell_type": "code",
      "source": [
        "# horizontal splitting\n",
        "a4"
      ],
      "metadata": {
        "colab": {
          "base_uri": "https://localhost:8080/"
        },
        "id": "kgbl6wkD9ll6",
        "outputId": "d23b49c9-3f69-4662-bd96-ec64b0bc9ada"
      },
      "execution_count": 62,
      "outputs": [
        {
          "output_type": "execute_result",
          "data": {
            "text/plain": [
              "array([[ 0,  1,  2,  3],\n",
              "       [ 4,  5,  6,  7],\n",
              "       [ 8,  9, 10, 11]])"
            ]
          },
          "metadata": {},
          "execution_count": 62
        }
      ]
    },
    {
      "cell_type": "code",
      "source": [
        "np.hsplit(a4,3)  # because it is not divisible in tree  equal part"
      ],
      "metadata": {
        "colab": {
          "base_uri": "https://localhost:8080/",
          "height": 287
        },
        "id": "FIfZM5BsQE5l",
        "outputId": "a4ea1346-7555-46b9-c16a-82448f3754f8"
      },
      "execution_count": 67,
      "outputs": [
        {
          "output_type": "error",
          "ename": "ValueError",
          "evalue": "array split does not result in an equal division",
          "traceback": [
            "\u001b[0;31m---------------------------------------------------------------------------\u001b[0m",
            "\u001b[0;31mValueError\u001b[0m                                Traceback (most recent call last)",
            "\u001b[0;32m<ipython-input-67-a8753478a5f1>\u001b[0m in \u001b[0;36m<cell line: 1>\u001b[0;34m()\u001b[0m\n\u001b[0;32m----> 1\u001b[0;31m \u001b[0mnp\u001b[0m\u001b[0;34m.\u001b[0m\u001b[0mhsplit\u001b[0m\u001b[0;34m(\u001b[0m\u001b[0ma4\u001b[0m\u001b[0;34m,\u001b[0m\u001b[0;36m3\u001b[0m\u001b[0;34m)\u001b[0m  \u001b[0;31m# because it is not divisible in tree  equal part\u001b[0m\u001b[0;34m\u001b[0m\u001b[0;34m\u001b[0m\u001b[0m\n\u001b[0m",
            "\u001b[0;32m/usr/local/lib/python3.10/dist-packages/numpy/lib/shape_base.py\u001b[0m in \u001b[0;36mhsplit\u001b[0;34m(ary, indices_or_sections)\u001b[0m\n\u001b[1;32m    936\u001b[0m         \u001b[0;32mraise\u001b[0m \u001b[0mValueError\u001b[0m\u001b[0;34m(\u001b[0m\u001b[0;34m'hsplit only works on arrays of 1 or more dimensions'\u001b[0m\u001b[0;34m)\u001b[0m\u001b[0;34m\u001b[0m\u001b[0;34m\u001b[0m\u001b[0m\n\u001b[1;32m    937\u001b[0m     \u001b[0;32mif\u001b[0m \u001b[0mary\u001b[0m\u001b[0;34m.\u001b[0m\u001b[0mndim\u001b[0m \u001b[0;34m>\u001b[0m \u001b[0;36m1\u001b[0m\u001b[0;34m:\u001b[0m\u001b[0;34m\u001b[0m\u001b[0;34m\u001b[0m\u001b[0m\n\u001b[0;32m--> 938\u001b[0;31m         \u001b[0;32mreturn\u001b[0m \u001b[0msplit\u001b[0m\u001b[0;34m(\u001b[0m\u001b[0mary\u001b[0m\u001b[0;34m,\u001b[0m \u001b[0mindices_or_sections\u001b[0m\u001b[0;34m,\u001b[0m \u001b[0;36m1\u001b[0m\u001b[0;34m)\u001b[0m\u001b[0;34m\u001b[0m\u001b[0;34m\u001b[0m\u001b[0m\n\u001b[0m\u001b[1;32m    939\u001b[0m     \u001b[0;32melse\u001b[0m\u001b[0;34m:\u001b[0m\u001b[0;34m\u001b[0m\u001b[0;34m\u001b[0m\u001b[0m\n\u001b[1;32m    940\u001b[0m         \u001b[0;32mreturn\u001b[0m \u001b[0msplit\u001b[0m\u001b[0;34m(\u001b[0m\u001b[0mary\u001b[0m\u001b[0;34m,\u001b[0m \u001b[0mindices_or_sections\u001b[0m\u001b[0;34m,\u001b[0m \u001b[0;36m0\u001b[0m\u001b[0;34m)\u001b[0m\u001b[0;34m\u001b[0m\u001b[0;34m\u001b[0m\u001b[0m\n",
            "\u001b[0;32m/usr/local/lib/python3.10/dist-packages/numpy/lib/shape_base.py\u001b[0m in \u001b[0;36msplit\u001b[0;34m(ary, indices_or_sections, axis)\u001b[0m\n\u001b[1;32m    862\u001b[0m         \u001b[0mN\u001b[0m \u001b[0;34m=\u001b[0m \u001b[0mary\u001b[0m\u001b[0;34m.\u001b[0m\u001b[0mshape\u001b[0m\u001b[0;34m[\u001b[0m\u001b[0maxis\u001b[0m\u001b[0;34m]\u001b[0m\u001b[0;34m\u001b[0m\u001b[0;34m\u001b[0m\u001b[0m\n\u001b[1;32m    863\u001b[0m         \u001b[0;32mif\u001b[0m \u001b[0mN\u001b[0m \u001b[0;34m%\u001b[0m \u001b[0msections\u001b[0m\u001b[0;34m:\u001b[0m\u001b[0;34m\u001b[0m\u001b[0;34m\u001b[0m\u001b[0m\n\u001b[0;32m--> 864\u001b[0;31m             raise ValueError(\n\u001b[0m\u001b[1;32m    865\u001b[0m                 'array split does not result in an equal division') from None\n\u001b[1;32m    866\u001b[0m     \u001b[0;32mreturn\u001b[0m \u001b[0marray_split\u001b[0m\u001b[0;34m(\u001b[0m\u001b[0mary\u001b[0m\u001b[0;34m,\u001b[0m \u001b[0mindices_or_sections\u001b[0m\u001b[0;34m,\u001b[0m \u001b[0maxis\u001b[0m\u001b[0;34m)\u001b[0m\u001b[0;34m\u001b[0m\u001b[0;34m\u001b[0m\u001b[0m\n",
            "\u001b[0;31mValueError\u001b[0m: array split does not result in an equal division"
          ]
        }
      ]
    },
    {
      "cell_type": "code",
      "source": [
        "# vertical splitting"
      ],
      "metadata": {
        "id": "nfhKoruOuhK-"
      },
      "execution_count": 68,
      "outputs": []
    },
    {
      "cell_type": "code",
      "source": [
        "a5"
      ],
      "metadata": {
        "id": "qJ2xEBFUuieB",
        "colab": {
          "base_uri": "https://localhost:8080/"
        },
        "outputId": "3fa5fb46-e984-46c7-effe-b3ed9b7c0371"
      },
      "execution_count": 69,
      "outputs": [
        {
          "output_type": "execute_result",
          "data": {
            "text/plain": [
              "array([[12, 13, 14, 15],\n",
              "       [16, 17, 18, 19],\n",
              "       [20, 21, 22, 23]])"
            ]
          },
          "metadata": {},
          "execution_count": 69
        }
      ]
    },
    {
      "cell_type": "code",
      "source": [
        "np.vsplit(a5,3)"
      ],
      "metadata": {
        "id": "1wxcLLR_QWVu",
        "colab": {
          "base_uri": "https://localhost:8080/"
        },
        "outputId": "028164b3-1222-41be-b165-3ac4b7dd614f"
      },
      "execution_count": 71,
      "outputs": [
        {
          "output_type": "execute_result",
          "data": {
            "text/plain": [
              "[array([[12, 13, 14, 15]]),\n",
              " array([[16, 17, 18, 19]]),\n",
              " array([[20, 21, 22, 23]])]"
            ]
          },
          "metadata": {},
          "execution_count": 71
        }
      ]
    }
  ]
}